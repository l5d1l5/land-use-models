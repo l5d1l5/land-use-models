{
  "cells": [
    {
      "cell_type": "code",
      "execution_count": 81,
      "metadata": {
        "collapsed": true,
        "pycharm": {}
      },
      "outputs": [
        {
          "name": "stdout",
          "output_type": "stream",
          "text": [
            "2684\n"
          ]
        },
        {
          "name": "stdout",
          "output_type": "stream",
          "text": [
            "2684 0.05019234291994871\n4506\n"
          ]
        },
        {
          "name": "stdout",
          "output_type": "stream",
          "text": [
            "4506 0.024381401250793074\n"
          ]
        },
        {
          "name": "stdout",
          "output_type": "stream",
          "text": [
            "269 11033 0.024381401250793074\ncomplete\n"
          ]
        }
      ],
      "source": "#################################################\n# Figures out what stations weather data to use #\n#################################################\n\nimport pandas as pd\nimport numpy as np\nfrom sqlalchemy                 import create_engine\nfrom sqlalchemy                 import Table, Column, String, MetaData, select, update\nfrom sqlalchemy.ext.declarative import declarative_base\nfrom sqlalchemy.orm             import sessionmaker\nfrom math import cos, asin, sqrt\nfrom collections                import defaultdict\nfrom sqlalchemy                 import create_engine\nfrom sqlalchemy                 import Table, Column, String, MetaData, select, update\nfrom sqlalchemy.ext.declarative import declarative_base\nfrom sqlalchemy.orm             import sessionmaker\nimport os\nimport re\nimport time\nimport pandas as pd\nimport numpy as np\nimport psycopg2\nimport geopy.distance\n\n\n#### SET UP DATABASE CONNECTION ####\ndb_name \u003d \u0027sandpit\u0027\ndb_user_name \u003d os.environ.get(\u0027POSTGRES_USER\u0027)\ndb_user_pw \u003d os.environ.get(\u0027POSTGRES_PW\u0027)\nmain_table \u003d \u0027main_table\u0027\n\nhost \u003d \"127.0.0.1\"\nport \u003d \"5432\"\ndriver \u003d \u0027psycopg2\u0027\ndb_type \u003d \u0027postgresql\u0027\n\ndb_string \u003d \u0027%s+%s://%s:%s@%s:%s/%s\u0027 % (db_type,\n                                        driver,\n                                        db_user_name,\n                                        db_user_pw,\n                                        host,\n                                        port,\n                                        db_name)\n\nengine \u003d create_engine(db_string, pool_size\u003d50, max_overflow\u003d0)\nSession \u003d sessionmaker(bind\u003dengine)\nsession \u003d Session()\nBase \u003d declarative_base()\n# Look up the existing tables from database\nBase.metadata.reflect(engine)\n\nStations \u003d type(\u0027station_data\u0027, (Base,), {\u0027__tablename__\u0027: \u0027cliflo_rainfall_station_info_table_test2\u0027})\nDeficit \u003d type(\u0027deficit_table\u0027, (Base,), {\u0027__tablename__\u0027: \u0027cliflo_rainfall_daily_test2\u0027})\nstation_location_list \u003d [({\u0027lat\u0027: float(d.lat), \u0027lon\u0027: float(d.long), \u0027station\u0027: int(d.stations)}) \n                         for d in session.query(Stations).all()]\n# farm_location \u003d {\u0027lat\u0027:-37.849667, \u0027lon\u0027: 175.561126}\nfarm_location \u003d {\u0027lat\u0027:-42.849667, \u0027lon\u0027: 175.561126}\n    \ndistance \u003d [(vals[\u0027station\u0027], geopy.distance.distance((farm_location[\u0027lat\u0027], farm_location[\u0027lon\u0027]), (vals[\u0027lat\u0027], vals[\u0027lon\u0027])).km) \n            for vals in station_location_list]\n\n\nfor val in range(0, 10):\n    closest_tuple \u003d (min(distance, key \u003d lambda t: t[1]))\n    closest_station \u003d closest_tuple[0]\n    print(closest_station)\n    deficit_values_list \u003d []\n    query_total \u003d session.query(Deficit).filter(Deficit.rowid.contains(str(closest_station)))\n    query_estimate \u003d session.query(Deficit).filter(Deficit.rowid.contains(str(closest_station)), Deficit.deficit_mm_estimated\u003d\u003d\u00271\u0027)\n    perc_estimated \u003d query_estimate.count()/query_total.count()\n    print(closest_station, perc_estimated)\n    if perc_estimated \u003c 0.05:\n        break\n    else:\n        # if tuple has too many errors (over 5 percent) recalcualte distance tuple and exclude the closest one)\n        distance \u003d [i for i in distance if i[0] !\u003d closest_station]\n        \nfor d in session.query(Deficit).filter(Deficit.rowid.contains(str(closest_station))):\n          \n          print(d.rowid, d.deficit_mm, d.amount_mm, d.deficit_mm_estimated)\n\nprint(\u0027complete\u0027)\n\n\n\n"
    },
    {
      "cell_type": "code",
      "execution_count": 3,
      "metadata": {
        "pycharm": {}
      },
      "outputs": [
        {
          "ename": "WebDriverException",
          "evalue": "Message: \u0027chromedriver\u0027 executable needs to be in PATH. Please see https://sites.google.com/a/chromium.org/chromedriver/home\n",
          "traceback": [
            "\u001b[1;31m---------------------------------------------------------------------------\u001b[0m",
            "\u001b[1;31mFileNotFoundError\u001b[0m                         Traceback (most recent call last)",
            "\u001b[1;32m~\\Anaconda3\\lib\\site-packages\\selenium\\webdriver\\common\\service.py\u001b[0m in \u001b[0;36mstart\u001b[1;34m(self)\u001b[0m\n\u001b[0;32m     75\u001b[0m                                             \u001b[0mstderr\u001b[0m\u001b[1;33m\u003d\u001b[0m\u001b[0mself\u001b[0m\u001b[1;33m.\u001b[0m\u001b[0mlog_file\u001b[0m\u001b[1;33m,\u001b[0m\u001b[1;33m\u001b[0m\u001b[1;33m\u001b[0m\u001b[0m\n\u001b[1;32m---\u003e 76\u001b[1;33m                                             stdin\u003dPIPE)\n\u001b[0m\u001b[0;32m     77\u001b[0m         \u001b[1;32mexcept\u001b[0m \u001b[0mTypeError\u001b[0m\u001b[1;33m:\u001b[0m\u001b[1;33m\u001b[0m\u001b[1;33m\u001b[0m\u001b[0m\n",
            "\u001b[1;32m~\\Anaconda3\\lib\\subprocess.py\u001b[0m in \u001b[0;36m__init__\u001b[1;34m(self, args, bufsize, executable, stdin, stdout, stderr, preexec_fn, close_fds, shell, cwd, env, universal_newlines, startupinfo, creationflags, restore_signals, start_new_session, pass_fds, encoding, errors)\u001b[0m\n\u001b[0;32m    708\u001b[0m                                 \u001b[0merrread\u001b[0m\u001b[1;33m,\u001b[0m \u001b[0merrwrite\u001b[0m\u001b[1;33m,\u001b[0m\u001b[1;33m\u001b[0m\u001b[1;33m\u001b[0m\u001b[0m\n\u001b[1;32m--\u003e 709\u001b[1;33m                                 restore_signals, start_new_session)\n\u001b[0m\u001b[0;32m    710\u001b[0m         \u001b[1;32mexcept\u001b[0m\u001b[1;33m:\u001b[0m\u001b[1;33m\u001b[0m\u001b[1;33m\u001b[0m\u001b[0m\n",
            "\u001b[1;32m~\\Anaconda3\\lib\\subprocess.py\u001b[0m in \u001b[0;36m_execute_child\u001b[1;34m(self, args, executable, preexec_fn, close_fds, pass_fds, cwd, env, startupinfo, creationflags, shell, p2cread, p2cwrite, c2pread, c2pwrite, errread, errwrite, unused_restore_signals, unused_start_new_session)\u001b[0m\n\u001b[0;32m    996\u001b[0m                                          \u001b[0mos\u001b[0m\u001b[1;33m.\u001b[0m\u001b[0mfspath\u001b[0m\u001b[1;33m(\u001b[0m\u001b[0mcwd\u001b[0m\u001b[1;33m)\u001b[0m \u001b[1;32mif\u001b[0m \u001b[0mcwd\u001b[0m \u001b[1;32mis\u001b[0m \u001b[1;32mnot\u001b[0m \u001b[1;32mNone\u001b[0m \u001b[1;32melse\u001b[0m \u001b[1;32mNone\u001b[0m\u001b[1;33m,\u001b[0m\u001b[1;33m\u001b[0m\u001b[1;33m\u001b[0m\u001b[0m\n\u001b[1;32m--\u003e 997\u001b[1;33m                                          startupinfo)\n\u001b[0m\u001b[0;32m    998\u001b[0m             \u001b[1;32mfinally\u001b[0m\u001b[1;33m:\u001b[0m\u001b[1;33m\u001b[0m\u001b[1;33m\u001b[0m\u001b[0m\n",
            "\u001b[1;31mFileNotFoundError\u001b[0m: [WinError 2] The system cannot find the file specified",
            "\nDuring handling of the above exception, another exception occurred:\n",
            "\u001b[1;31mWebDriverException\u001b[0m                        Traceback (most recent call last)",
            "\u001b[1;32m\u003cipython-input-3-d0b30067f837\u003e\u001b[0m in \u001b[0;36m\u003cmodule\u003e\u001b[1;34m\u001b[0m\n\u001b[0;32m      5\u001b[0m \u001b[1;32mimport\u001b[0m \u001b[0mtime\u001b[0m\u001b[1;33m\u001b[0m\u001b[1;33m\u001b[0m\u001b[0m\n\u001b[0;32m      6\u001b[0m \u001b[1;33m\u001b[0m\u001b[0m\n\u001b[1;32m----\u003e 7\u001b[1;33m \u001b[0mdriver\u001b[0m \u001b[1;33m\u003d\u001b[0m \u001b[0mwebdriver\u001b[0m\u001b[1;33m.\u001b[0m\u001b[0mChrome\u001b[0m\u001b[1;33m(\u001b[0m\u001b[1;33m)\u001b[0m\u001b[1;33m\u001b[0m\u001b[1;33m\u001b[0m\u001b[0m\n\u001b[0m\u001b[0;32m      8\u001b[0m \u001b[1;33m\u001b[0m\u001b[0m\n\u001b[0;32m      9\u001b[0m \u001b[0mdriver\u001b[0m\u001b[1;33m.\u001b[0m\u001b[0mset_page_load_timeout\u001b[0m\u001b[1;33m(\u001b[0m\u001b[1;36m10\u001b[0m\u001b[1;33m)\u001b[0m\u001b[1;33m\u001b[0m\u001b[1;33m\u001b[0m\u001b[0m\n",
            "\u001b[1;32m~\\Anaconda3\\lib\\site-packages\\selenium\\webdriver\\chrome\\webdriver.py\u001b[0m in \u001b[0;36m__init__\u001b[1;34m(self, executable_path, port, options, service_args, desired_capabilities, service_log_path, chrome_options, keep_alive)\u001b[0m\n\u001b[0;32m     71\u001b[0m             \u001b[0mservice_args\u001b[0m\u001b[1;33m\u003d\u001b[0m\u001b[0mservice_args\u001b[0m\u001b[1;33m,\u001b[0m\u001b[1;33m\u001b[0m\u001b[1;33m\u001b[0m\u001b[0m\n\u001b[0;32m     72\u001b[0m             log_path\u003dservice_log_path)\n\u001b[1;32m---\u003e 73\u001b[1;33m         \u001b[0mself\u001b[0m\u001b[1;33m.\u001b[0m\u001b[0mservice\u001b[0m\u001b[1;33m.\u001b[0m\u001b[0mstart\u001b[0m\u001b[1;33m(\u001b[0m\u001b[1;33m)\u001b[0m\u001b[1;33m\u001b[0m\u001b[1;33m\u001b[0m\u001b[0m\n\u001b[0m\u001b[0;32m     74\u001b[0m \u001b[1;33m\u001b[0m\u001b[0m\n\u001b[0;32m     75\u001b[0m         \u001b[1;32mtry\u001b[0m\u001b[1;33m:\u001b[0m\u001b[1;33m\u001b[0m\u001b[1;33m\u001b[0m\u001b[0m\n",
            "\u001b[1;32m~\\Anaconda3\\lib\\site-packages\\selenium\\webdriver\\common\\service.py\u001b[0m in \u001b[0;36mstart\u001b[1;34m(self)\u001b[0m\n\u001b[0;32m     81\u001b[0m                 raise WebDriverException(\n\u001b[0;32m     82\u001b[0m                     \"\u0027%s\u0027 executable needs to be in PATH. %s\" % (\n\u001b[1;32m---\u003e 83\u001b[1;33m                         os.path.basename(self.path), self.start_error_message)\n\u001b[0m\u001b[0;32m     84\u001b[0m                 )\n\u001b[0;32m     85\u001b[0m             \u001b[1;32melif\u001b[0m \u001b[0merr\u001b[0m\u001b[1;33m.\u001b[0m\u001b[0merrno\u001b[0m \u001b[1;33m\u003d\u003d\u001b[0m \u001b[0merrno\u001b[0m\u001b[1;33m.\u001b[0m\u001b[0mEACCES\u001b[0m\u001b[1;33m:\u001b[0m\u001b[1;33m\u001b[0m\u001b[1;33m\u001b[0m\u001b[0m\n",
            "\u001b[1;31mWebDriverException\u001b[0m: Message: \u0027chromedriver\u0027 executable needs to be in PATH. Please see https://sites.google.com/a/chromium.org/chromedriver/home\n"
          ],
          "output_type": "error"
        }
      ],
      "source": [
        "#####################\n",
        "# using data to download selenium\n",
        "\n",
        "from selenium import webdriver\n",
        "import time\n",
        "\n",
        "driver \u003d webdriver.Chrome()\n",
        "\n",
        "driver.set_page_load_timeout(10)\n",
        "driver.get(\u0027http.//google.com\u0027)\n",
        "driver.find_element_by_name(\u0027q\u0027).send_keys(\u0027Automation Step by step\u0027)\n",
        "driver.find_element_by_name(\u0027btnK\u0027).click\n",
        "time.sleep(4)\n",
        "driver.quit\n",
        "\n",
        "\n"
      ]
    }
  ],
  "metadata": {
    "kernelspec": {
      "display_name": "Python 3",
      "language": "python",
      "name": "python3"
    },
    "language_info": {
      "codemirror_mode": {
        "name": "ipython",
        "version": 3
      },
      "file_extension": ".py",
      "mimetype": "text/x-python",
      "name": "python",
      "nbconvert_exporter": "python",
      "pygments_lexer": "ipython3",
      "version": "3.6.7"
    }
  },
  "nbformat": 4,
  "nbformat_minor": 2
}